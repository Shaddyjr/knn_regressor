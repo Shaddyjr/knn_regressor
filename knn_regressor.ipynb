{
 "cells": [
  {
   "cell_type": "markdown",
   "metadata": {},
   "source": [
    "# K-Nearest Neighbors Regressor from Scratch\n",
    "\n",
    "Rules:\n",
    "1. No dependencies\n",
    "2. Only using base python functionality"
   ]
  },
  {
   "cell_type": "markdown",
   "metadata": {},
   "source": [
    "#### The KNN Algorithm:\n",
    "1. For each test observation, calculate distance from observation to each training observation\n",
    "2. Sort neighbors and select nearest $k$\n",
    "3. Use the target values associated with those neighbors\n",
    "4. Return the mean from those values (regressor)"
   ]
  },
  {
   "cell_type": "code",
   "execution_count": 23,
   "metadata": {},
   "outputs": [],
   "source": [
    "# Loading help packages!\n",
    "from sklearn.datasets import load_boston\n",
    "from sklearn.model_selection import train_test_split\n",
    "\n",
    "\n",
    "RANDOM_STATE = 666"
   ]
  },
  {
   "cell_type": "code",
   "execution_count": 24,
   "metadata": {},
   "outputs": [],
   "source": [
    "# loading data!\n",
    "X, y = load_boston(return_X_y = True)\n",
    "\n",
    "X_train, X_test, y_train, y_test = train_test_split(X, y, random_state = RANDOM_STATE)"
   ]
  },
  {
   "cell_type": "markdown",
   "metadata": {},
   "source": [
    "### The setup - 4 main methods:\n",
    "1. ~~`euclidean_distance` - calculates distance~~\n",
    "2. ~~`k_nearest_neighbor_indices` - output a list of the indices for nearest neighbors~~\n",
    "3. ~~`predict` - outputs the predictions~~\n",
    "4. ~~`r2_score` - assess model's performance~~\n",
    "\n",
    "### Euclidean distance\n",
    "\n",
    "$$\n",
    "\\text{Euclidean distance} = \\sqrt{\\sum_{i=1}^{n}(a_i - b_i)^2}\n",
    "$$"
   ]
  },
  {
   "cell_type": "code",
   "execution_count": 68,
   "metadata": {},
   "outputs": [],
   "source": [
    "class KNNRegressor():\n",
    "    def __init__(self, k = 5):\n",
    "        self.k = k\n",
    "    \n",
    "    def __repr__(self):\n",
    "        return f\"KNNRegressor {{ k = {self.k} }}\"\n",
    "    \n",
    "    def fit(self, X_train, y_train):\n",
    "        self.X_train_ = X_train\n",
    "        self.y_train_ = y_train\n",
    "        \n",
    "    def euclidean_distance(self, a, b):\n",
    "        total = 0\n",
    "        for a_i, b_i in zip(a, b):\n",
    "            total += (a_i - b_i) ** 2\n",
    "        return total ** .5\n",
    "    \n",
    "    def k_nearest_neighbor_indices(self, distances):\n",
    "        # construct list of tuples (distance, index)\n",
    "        distances_and_indices = [(distance, i) for i, distance in enumerate(distances)]\n",
    "        \n",
    "        # sort\n",
    "        distances_and_indices.sort()\n",
    "        \n",
    "        # grab first k\n",
    "        k_distances_and_indices = distances_and_indices[:self.k]\n",
    "        \n",
    "        return [i for _, i in k_distances_and_indices]\n",
    "    \n",
    "    def predict_row(self, X_row):\n",
    "        # get distances from give observations and ALL trianing observations\n",
    "        distances = [self.euclidean_distance(train_row, X_row) for train_row in self.X_train_]\n",
    "        \n",
    "        # get k-nearest indices using k_nearest_neighbor_indices\n",
    "        k_indices = self.k_nearest_neighbor_indices(distances)\n",
    "        \n",
    "        # get k-nearest target values (self.y_train_)\n",
    "        values = [self.y_train_[index] for index in k_indices]\n",
    "        \n",
    "        # return average\n",
    "        return sum(values)/len(values)\n",
    "    \n",
    "    def predict(self, X):\n",
    "        return [self.predict_row(X_row) for X_row in X]\n",
    "    \n",
    "    def r2_score(self, y_true, y_pred):\n",
    "        # numerator\n",
    "        ssr_model = 0\n",
    "        for y_i, y_hat in zip(y_true, y_pred):\n",
    "            ssr_model += (y_i - y_hat) ** 2\n",
    "        \n",
    "        # denominator\n",
    "        y_true_mean = sum(y_true) / len(y_true)\n",
    "        ssr_total = 0\n",
    "        for y_i in y_true:\n",
    "            ssr_total += (y_i - y_true_mean) ** 2\n",
    "        \n",
    "        try:\n",
    "            return 1 - (ssr_model / ssr_total)\n",
    "        except:\n",
    "            return 0.0 # float\n",
    "        \n",
    "    def score(self, X, y_true):\n",
    "        preds = self.predict(X)\n",
    "        return self.r2_score(y_true, preds)"
   ]
  },
  {
   "cell_type": "markdown",
   "metadata": {},
   "source": [
    "### $R^2$ score\n",
    "\n",
    "$$\n",
    "R^2 = 1 - \\frac{SSR_{model}}{SSR_{total}} = 1 - \\frac{\\sum_{i = 1}^n (y_i - \\hat{y})^2}{\\sum_{i = 1}^n (y_i - \\bar{y})^2}\n",
    "$$"
   ]
  },
  {
   "cell_type": "code",
   "execution_count": 69,
   "metadata": {},
   "outputs": [],
   "source": [
    "# instantiate\n",
    "knn = KNNRegressor(k = 10)\n",
    "\n",
    "# fit\n",
    "knn.fit(X_train, y_train)"
   ]
  },
  {
   "cell_type": "code",
   "execution_count": 70,
   "metadata": {},
   "outputs": [
    {
     "data": {
      "text/plain": [
       "0.5971528837505538"
      ]
     },
     "execution_count": 70,
     "metadata": {},
     "output_type": "execute_result"
    }
   ],
   "source": [
    "# train r^2 score\n",
    "knn.score(X_train, y_train)"
   ]
  },
  {
   "cell_type": "code",
   "execution_count": 71,
   "metadata": {},
   "outputs": [
    {
     "data": {
      "text/plain": [
       "0.381556121236996"
      ]
     },
     "execution_count": 71,
     "metadata": {},
     "output_type": "execute_result"
    }
   ],
   "source": [
    "# test r^2 score\n",
    "knn.score(X_test, y_test)"
   ]
  },
  {
   "cell_type": "markdown",
   "metadata": {},
   "source": [
    "### Compare to `sklearn`"
   ]
  },
  {
   "cell_type": "code",
   "execution_count": 72,
   "metadata": {},
   "outputs": [],
   "source": [
    "from sklearn.neighbors import KNeighborsRegressor"
   ]
  },
  {
   "cell_type": "code",
   "execution_count": 73,
   "metadata": {},
   "outputs": [
    {
     "data": {
      "text/plain": [
       "KNeighborsRegressor(algorithm='auto', leaf_size=30, metric='euclidean',\n",
       "                    metric_params=None, n_jobs=None, n_neighbors=10, p=2,\n",
       "                    weights='uniform')"
      ]
     },
     "execution_count": 73,
     "metadata": {},
     "output_type": "execute_result"
    }
   ],
   "source": [
    "sk_knn = KNeighborsRegressor(n_neighbors = 10, metric = \"euclidean\")\n",
    "\n",
    "sk_knn.fit(X_train, y_train)"
   ]
  },
  {
   "cell_type": "code",
   "execution_count": 74,
   "metadata": {},
   "outputs": [
    {
     "data": {
      "text/plain": [
       "0.597152883750554"
      ]
     },
     "execution_count": 74,
     "metadata": {},
     "output_type": "execute_result"
    }
   ],
   "source": [
    "# train r^2 score\n",
    "sk_knn.score(X_train, y_train)"
   ]
  },
  {
   "cell_type": "code",
   "execution_count": 75,
   "metadata": {},
   "outputs": [
    {
     "data": {
      "text/plain": [
       "0.3815561212369959"
      ]
     },
     "execution_count": 75,
     "metadata": {},
     "output_type": "execute_result"
    }
   ],
   "source": [
    "# test r^2 score\n",
    "sk_knn.score(X_test, y_test)"
   ]
  },
  {
   "cell_type": "code",
   "execution_count": null,
   "metadata": {},
   "outputs": [],
   "source": []
  }
 ],
 "metadata": {
  "kernelspec": {
   "display_name": "Python 3",
   "language": "python",
   "name": "python3"
  },
  "language_info": {
   "codemirror_mode": {
    "name": "ipython",
    "version": 3
   },
   "file_extension": ".py",
   "mimetype": "text/x-python",
   "name": "python",
   "nbconvert_exporter": "python",
   "pygments_lexer": "ipython3",
   "version": "3.7.3"
  }
 },
 "nbformat": 4,
 "nbformat_minor": 4
}
